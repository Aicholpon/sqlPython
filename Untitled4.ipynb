{
 "cells": [
  {
   "cell_type": "code",
   "execution_count": 11,
   "metadata": {},
   "outputs": [],
   "source": [
    "import pymysql\n",
    "import pandas as pd\n",
    "import json\n",
    "from sqlmodule import Companysearcher\n",
    "from connection import Conn as cn\n",
    "\n",
    "sm = Companysearcher(cn.conn)"
   ]
  },
  {
   "cell_type": "code",
   "execution_count": 15,
   "metadata": {},
   "outputs": [],
   "source": [
    "def find_companies_related_to_companies_via_founders(companies, db_connection=cn.conn):\n",
    "    frames = [] \n",
    "    for company in companies:\n",
    "        frames.append(find_companies_by_name(company, db_connection))\n",
    "    df = pd.concat(frames) # TODO remove duplicates\n",
    "    return find_related_companies_by_founders(df, db_connection)\n",
    "    \n",
    "    \n",
    "def find_related_companies_by_founders(companies_dataframe, db_connection=cn.conn):\n",
    "    companies_array = companies_dataframe.values\n",
    "    companies_list = list(map(find_companies_by_founders_string, companies_array))\n",
    "    data = {}\n",
    "    for i, company in enumerate(companies_array):\n",
    "        data[company[0]] = companies_list[i]\n",
    "    return data\n",
    "\n",
    "def find_companies_by_founders_string(company_with_founders, db_connection=cn.conn):\n",
    "    founders_list = company_with_founders[1].split(',')\n",
    "    #companies_list = list(map(find_companies_by_founder, founders_list))\n",
    "    data = {}\n",
    "    for i, founder in enumerate(founders_list):\n",
    "        data[founder] = find_companies_by_founder(founder, company_with_founders[0], db_connection)\n",
    "    return data\n",
    "\n",
    "def find_companies_by_founder(founder, nosearch, db_connection=cn.conn):\n",
    "    df = pd.read_sql_query(\n",
    "    \"SELECT FullNameRu FROM Minjust2018 WHERE Founders LIKE '%\"+ founder +\"%' AND FullNameRu <> '\"+nosearch+\"' LIMIT 0, 10\",\n",
    "    db_connection)\n",
    "    return df.values.tolist()\n",
    "\n",
    "def find_companies_by_name(name, db_connection=cn.conn):\n",
    "    df = pd.read_sql_query(\n",
    "    \"SELECT FullNameRu, Founders FROM Minjust2018 WHERE FullNameRu LIKE '%\"+name+\"%' LIMIT 0, 20\",\n",
    "    db_connection)\n",
    "    return df"
   ]
  },
  {
   "cell_type": "code",
   "execution_count": 18,
   "metadata": {},
   "outputs": [],
   "source": []
  },
  {
   "cell_type": "code",
   "execution_count": 7,
   "metadata": {},
   "outputs": [
    {
     "name": "stdout",
     "output_type": "stream",
     "text": [
      "        FullNameRu                                           Founders\n",
      "0   \"Абант Сервис\"  Руслан Акматбек, Омошов Жоодар Болотбекович, А...\n",
      "[['\\xa0\"Абант Сервис\"'\n",
      "  'Руслан Акматбек, Омошов Жоодар Болотбекович, Абдраева Венера Сагынбаевна']]\n"
     ]
    }
   ],
   "source": []
  },
  {
   "cell_type": "code",
   "execution_count": null,
   "metadata": {},
   "outputs": [],
   "source": []
  },
  {
   "cell_type": "code",
   "execution_count": null,
   "metadata": {},
   "outputs": [],
   "source": []
  },
  {
   "cell_type": "code",
   "execution_count": null,
   "metadata": {},
   "outputs": [],
   "source": []
  }
 ],
 "metadata": {
  "kernelspec": {
   "display_name": "Python 3",
   "language": "python",
   "name": "python3"
  },
  "language_info": {
   "codemirror_mode": {
    "name": "ipython",
    "version": 3
   },
   "file_extension": ".py",
   "mimetype": "text/x-python",
   "name": "python",
   "nbconvert_exporter": "python",
   "pygments_lexer": "ipython3",
   "version": "3.6.5"
  }
 },
 "nbformat": 4,
 "nbformat_minor": 2
}
