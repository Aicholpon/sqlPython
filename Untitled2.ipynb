{
 "cells": [
  {
   "cell_type": "code",
   "execution_count": 5,
   "metadata": {},
   "outputs": [
    {
     "name": "stdout",
     "output_type": "stream",
     "text": [
      "[2, 4, 6, 8, 10]\n",
      "[2]\n",
      "[2, 4]\n",
      "[2, 4, 6]\n",
      "[2, 4, 6, 8]\n",
      "[2, 4, 6, 8, 10]\n"
     ]
    }
   ],
   "source": [
    "def multiply2(a):\n",
    "    return (a*2)\n",
    "number_list = [1, 2, 3, 4, 5]\n",
    "print (list(map(multiply2, number_list)))\n",
    "\n",
    "number_list_multiply2 = []\n",
    "for number in number_list:\n",
    "    number_list_multiply2.append(multiply2(number))\n",
    "    print(number_list_multiply2)"
   ]
  },
  {
   "cell_type": "code",
   "execution_count": 11,
   "metadata": {},
   "outputs": [
    {
     "name": "stdout",
     "output_type": "stream",
     "text": [
      "[1.0, 5.0, 40.0, 30.0, 77.0]\n",
      "[1.0]\n",
      "[1.0, 5.0]\n",
      "[1.0, 5.0, 40.0]\n",
      "[1.0, 5.0, 40.0, 30.0]\n",
      "[1.0, 5.0, 40.0, 30.0, 77.0]\n"
     ]
    }
   ],
   "source": [
    "def divide2(a):\n",
    "    return (a/2)\n",
    "number_list = [2, 10, 80, 60, 154]\n",
    "print (list(map(divide2, number_list)))\n",
    "\n",
    "number_list_divide2 = []\n",
    "for number in number_list:\n",
    "    number_list_divide2.append(divide2(number))\n",
    "    print (number_list_divide2)"
   ]
  },
  {
   "cell_type": "code",
   "execution_count": 13,
   "metadata": {},
   "outputs": [
    {
     "name": "stdout",
     "output_type": "stream",
     "text": [
      "connection successful!\n"
     ]
    }
   ],
   "source": [
    "import pymysql\n",
    "import pandas as pd\n",
    "\n",
    "conn = pymysql.connect(\n",
    "host='198.199.81.151',\n",
    "port=3306,\n",
    "user='aicholpon', \n",
    "passwd='qwerty',\n",
    "db='test',\n",
    "charset='utf8mb4')\n",
    "print (\"connection successful!\")"
   ]
  },
  {
   "cell_type": "code",
   "execution_count": 21,
   "metadata": {},
   "outputs": [],
   "source": [
    "def find_companies_related_to_companies_via_founders(companies, db_connection=conn): #условие поиска компаний по учредителям\n",
    "    frames = [] # не лимитируется\n",
    "    for company in companies: # беруться все компании, в данном случае все\n",
    "        frames.append(find_companies_by_name(company, db_connection)) # беруться все компании по названиям\n",
    "    df = pd.concat(frames) # TODO remove duplicates\n",
    "    return find_related_companies_by_founders(df, db_connection) # поиск других компаний, с такими же учредителями\n"
   ]
  },
  {
   "cell_type": "code",
   "execution_count": 27,
   "metadata": {},
   "outputs": [
    {
     "ename": "IndentationError",
     "evalue": "unexpected indent (<ipython-input-27-d58d51f0f9fb>, line 5)",
     "output_type": "error",
     "traceback": [
      "\u001b[1;36m  File \u001b[1;32m\"<ipython-input-27-d58d51f0f9fb>\"\u001b[1;36m, line \u001b[1;32m5\u001b[0m\n\u001b[1;33m    for i, faculty in enumerate (faculty_list):\u001b[0m\n\u001b[1;37m    ^\u001b[0m\n\u001b[1;31mIndentationError\u001b[0m\u001b[1;31m:\u001b[0m unexpected indent\n"
     ]
    }
   ],
   "source": [
    "faculty_list = [\"Griffindor\", \"Slytherin\", \"Hufflepuff\", \"Ravenclaw\"]\n",
    "symbol_list = [1, 2, 3, 4]\n",
    "\n",
    "faculty_symbol = {}\n",
    " for i, faculty in enumerate (faculty_list):\n",
    "        faculty_list[i] = symbol_list[i]\n",
    "\n",
    "print (faculty_symbol)"
   ]
  },
  {
   "cell_type": "code",
   "execution_count": 31,
   "metadata": {},
   "outputs": [
    {
     "ename": "SyntaxError",
     "evalue": "invalid syntax (<ipython-input-31-ce2455c9d643>, line 7)",
     "output_type": "error",
     "traceback": [
      "\u001b[1;36m  File \u001b[1;32m\"<ipython-input-31-ce2455c9d643>\"\u001b[1;36m, line \u001b[1;32m7\u001b[0m\n\u001b[1;33m    print \"Frequencies/n\" + str(textfreq) + \"/n\"\u001b[0m\n\u001b[1;37m                        ^\u001b[0m\n\u001b[1;31mSyntaxError\u001b[0m\u001b[1;31m:\u001b[0m invalid syntax\n"
     ]
    }
   ],
   "source": [
    "text = [\"It allowance prevailed enjoyment in it. Calling observe for who pressed raising his. Can connection instrument astonished unaffected his motionless preference. Announcing say boy precaution unaffected difficulty alteration him. Above be would at so going heard. Engaged at village at am equally proceed. Settle nay length almost ham direct extent. Agreement for listening remainder get attention law acuteness day. Now whatever surprise resolved elegance indulged own way outlived.\"]\n",
    "textlist = text.split()\n",
    "textfreq = []\n",
    "for w in textlist:\n",
    "    textfreq.append (textlist.count(w))\n",
    "    \n",
    "    print \"Frequencies/n\" + str(textfreq) + \"/n\"\n",
    "    print \"Pairs/n\" + str(zip(textlist, textfreq))"
   ]
  },
  {
   "cell_type": "code",
   "execution_count": 34,
   "metadata": {},
   "outputs": [
    {
     "name": "stdout",
     "output_type": "stream",
     "text": [
      "Connection closed!\n"
     ]
    }
   ],
   "source": [
    "conn.close()\n",
    "print(\"Connection closed!\")"
   ]
  },
  {
   "cell_type": "code",
   "execution_count": 35,
   "metadata": {},
   "outputs": [
    {
     "ename": "AttributeError",
     "evalue": "'str' object has no attribute 'Counter'",
     "output_type": "error",
     "traceback": [
      "\u001b[1;31m---------------------------------------------------------------------------\u001b[0m",
      "\u001b[1;31mAttributeError\u001b[0m                            Traceback (most recent call last)",
      "\u001b[1;32m<ipython-input-35-303ba4115055>\u001b[0m in \u001b[0;36m<module>\u001b[1;34m()\u001b[0m\n\u001b[0;32m      5\u001b[0m \u001b[0mtext\u001b[0m \u001b[1;33m=\u001b[0m \u001b[1;34m'It allowance prevailed enjoyment in it. Calling observe for who pressed raising his. Can connection instrument astonished unaffected his motionless preference. Announcing say boy precaution unaffected difficulty alteration him. Above be would at so going heard. Engaged at village at am equally proceed. Settle nay length almost ham direct extent. Agreement for listening remainder get attention law acuteness day. Now whatever surprise resolved elegance indulged own way outlived..'\u001b[0m\u001b[1;33m\u001b[0m\u001b[0m\n\u001b[0;32m      6\u001b[0m \u001b[1;33m\u001b[0m\u001b[0m\n\u001b[1;32m----> 7\u001b[1;33m \u001b[0mcounter\u001b[0m \u001b[1;33m=\u001b[0m \u001b[0mtext\u001b[0m\u001b[1;33m.\u001b[0m\u001b[0mCounter\u001b[0m\u001b[1;33m(\u001b[0m\u001b[1;33m)\u001b[0m\u001b[1;33m\u001b[0m\u001b[0m\n\u001b[0m\u001b[0;32m      8\u001b[0m \u001b[1;32mfor\u001b[0m \u001b[0mword\u001b[0m \u001b[1;32min\u001b[0m \u001b[0mspecial_characters\u001b[0m\u001b[1;33m(\u001b[0m\u001b[0mtext\u001b[0m\u001b[1;33m)\u001b[0m\u001b[1;33m.\u001b[0m\u001b[0msplit\u001b[0m\u001b[1;33m(\u001b[0m\u001b[1;33m)\u001b[0m\u001b[1;33m:\u001b[0m\u001b[1;33m\u001b[0m\u001b[0m\n\u001b[0;32m      9\u001b[0m     \u001b[0mcounter\u001b[0m\u001b[1;33m[\u001b[0m\u001b[0mword\u001b[0m\u001b[1;33m]\u001b[0m \u001b[1;33m+=\u001b[0m \u001b[1;36m1\u001b[0m\u001b[1;33m\u001b[0m\u001b[0m\n",
      "\u001b[1;31mAttributeError\u001b[0m: 'str' object has no attribute 'Counter'"
     ]
    }
   ],
   "source": [
    "def special_characters(data):\n",
    "    regexp = '[{}]*'.format(string.punctuation)\n",
    "    return re.sub(regexp, '', text)\n",
    " \n",
    "text = 'It allowance prevailed enjoyment in it. Calling observe for who pressed raising his. Can connection instrument astonished unaffected his motionless preference. Announcing say boy precaution unaffected difficulty alteration him. Above be would at so going heard. Engaged at village at am equally proceed. Settle nay length almost ham direct extent. Agreement for listening remainder get attention law acuteness day. Now whatever surprise resolved elegance indulged own way outlived..'\n",
    " \n",
    "counter = text.Counter()\n",
    "for word in special_characters(text).split():\n",
    "    counter[word] += 1\n",
    " \n",
    "print(counter)"
   ]
  },
  {
   "cell_type": "code",
   "execution_count": null,
   "metadata": {},
   "outputs": [],
   "source": []
  }
 ],
 "metadata": {
  "kernelspec": {
   "display_name": "Python 3",
   "language": "python",
   "name": "python3"
  },
  "language_info": {
   "codemirror_mode": {
    "name": "ipython",
    "version": 3
   },
   "file_extension": ".py",
   "mimetype": "text/x-python",
   "name": "python",
   "nbconvert_exporter": "python",
   "pygments_lexer": "ipython3",
   "version": "3.6.5"
  }
 },
 "nbformat": 4,
 "nbformat_minor": 2
}
