{
 "cells": [
  {
   "cell_type": "markdown",
   "metadata": {},
   "source": [
    "Импортируем пакеты, устанавливаем связь с базой"
   ]
  },
  {
   "cell_type": "code",
   "execution_count": 1,
   "metadata": {},
   "outputs": [
    {
     "name": "stdout",
     "output_type": "stream",
     "text": [
      "connection successful!\n"
     ]
    }
   ],
   "source": [
    "import pymysql #импорт пакета MySQL\n",
    "import pandas as pd #импорт пакета pandas\n",
    "import json #фиг пойми что\n",
    "\n",
    "conn = pymysql.connect( #параметры функции connect\n",
    "    host='198.199.81.151', #адрес сервера\n",
    "    port=3306, #номер порта \n",
    "    user='eldiyar', #имя пользователя\n",
    "    passwd='qwerty', # пароль пользователя\n",
    "    db='test', #название базы\n",
    "    charset='utf8mb4') #ввод кодировки символов\n",
    "print(\"connection successful!\") #вывод после соединения\n"
   ]
  },
  {
   "cell_type": "markdown",
   "metadata": {},
   "source": [
    "комманда отбражения данных"
   ]
  },
  {
   "cell_type": "code",
   "execution_count": 2,
   "metadata": {},
   "outputs": [
    {
     "data": {
      "text/html": [
       "<div>\n",
       "<style scoped>\n",
       "    .dataframe tbody tr th:only-of-type {\n",
       "        vertical-align: middle;\n",
       "    }\n",
       "\n",
       "    .dataframe tbody tr th {\n",
       "        vertical-align: top;\n",
       "    }\n",
       "\n",
       "    .dataframe thead th {\n",
       "        text-align: right;\n",
       "    }\n",
       "</style>\n",
       "<table border=\"1\" class=\"dataframe\">\n",
       "  <thead>\n",
       "    <tr style=\"text-align: right;\">\n",
       "      <th></th>\n",
       "      <th>FullNameRu</th>\n",
       "      <th>Founders</th>\n",
       "    </tr>\n",
       "  </thead>\n",
       "  <tbody>\n",
       "    <tr>\n",
       "      <th>0</th>\n",
       "      <td>Общественный фонд \"ЭЛ-КУРУ\"</td>\n",
       "      <td>Тухватшин Рустам Романович, Сыдыков Кубанычбек...</td>\n",
       "    </tr>\n",
       "    <tr>\n",
       "      <th>1</th>\n",
       "      <td>ОсОО \"РТР-МЕДИКАЛ ПРОФИ\"</td>\n",
       "      <td>Тухватшин Рустам</td>\n",
       "    </tr>\n",
       "    <tr>\n",
       "      <th>2</th>\n",
       "      <td>Общественный фонд \"КООМАР МЕДИА\"</td>\n",
       "      <td>Гапарова Галина Ивановна, Тухватшин Ринат Руст...</td>\n",
       "    </tr>\n",
       "  </tbody>\n",
       "</table>\n",
       "</div>"
      ],
      "text/plain": [
       "                         FullNameRu  \\\n",
       "0       Общественный фонд \"ЭЛ-КУРУ\"   \n",
       "1          ОсОО \"РТР-МЕДИКАЛ ПРОФИ\"   \n",
       "2  Общественный фонд \"КООМАР МЕДИА\"   \n",
       "\n",
       "                                            Founders  \n",
       "0  Тухватшин Рустам Романович, Сыдыков Кубанычбек...  \n",
       "1                                   Тухватшин Рустам  \n",
       "2  Гапарова Галина Ивановна, Тухватшин Ринат Руст...  "
      ]
     },
     "execution_count": 2,
     "metadata": {},
     "output_type": "execute_result"
    }
   ],
   "source": [
    "df = pd.read_sql_query( # query - это наш connect, read_sql_ - отображение нашего объекта)\n",
    "    \"SELECT FullNameRu, Founders FROM Minjust2018 WHERE Founders LIKE '%Тухватшин%' LIMIT 0, 5\", # что откуда брать\n",
    "    conn)\n",
    "df.head(30) # отображение первых 30 результатов\n"
   ]
  },
  {
   "cell_type": "markdown",
   "metadata": {},
   "source": [
    "Закрытие соединения"
   ]
  },
  {
   "cell_type": "code",
   "execution_count": 3,
   "metadata": {},
   "outputs": [
    {
     "name": "stdout",
     "output_type": "stream",
     "text": [
      "Connection closed!\n"
     ]
    }
   ],
   "source": [
    "conn.close() #закрытие соединения с базой данных\n",
    "print(\"Connection closed!\") # что должно отображаться после правильного соединения\n"
   ]
  },
  {
   "cell_type": "code",
   "execution_count": null,
   "metadata": {},
   "outputs": [],
   "source": []
  }
 ],
 "metadata": {
  "kernelspec": {
   "display_name": "Python 3",
   "language": "python",
   "name": "python3"
  },
  "language_info": {
   "codemirror_mode": {
    "name": "ipython",
    "version": 3
   },
   "file_extension": ".py",
   "mimetype": "text/x-python",
   "name": "python",
   "nbconvert_exporter": "python",
   "pygments_lexer": "ipython3",
   "version": "3.6.5"
  }
 },
 "nbformat": 4,
 "nbformat_minor": 2
}
